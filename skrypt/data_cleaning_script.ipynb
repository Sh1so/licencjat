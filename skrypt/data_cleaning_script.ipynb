{
 "cells": [
  {
   "cell_type": "markdown",
   "id": "1e31fb56",
   "metadata": {},
   "source": [
    "# Skrypt Python do czyszczenia danych\n",
    "\n",
    "Skrypt ma na celu oczyszczenie datasetu, aby umożliwić łatwą integrację z raportem w PowerBI"
   ]
  },
  {
   "cell_type": "markdown",
   "id": "0a4dc1db",
   "metadata": {},
   "source": [
    "## 1. Import bibliotek potrzebnych do czyszczenia danych"
   ]
  },
  {
   "cell_type": "code",
   "execution_count": 1,
   "id": "1948c3f7",
   "metadata": {},
   "outputs": [],
   "source": [
    "import numpy as np\n",
    "import pandas as pd\n",
    "from pathlib import Path"
   ]
  },
  {
   "cell_type": "markdown",
   "id": "3c7b0b6c",
   "metadata": {},
   "source": [
    "## 2. Dodanie dat do przeprowadzenia analizy z wykorzystaniem czasu (szereg czasowy)"
   ]
  },
  {
   "cell_type": "code",
   "execution_count": 2,
   "id": "4b51b9c4",
   "metadata": {},
   "outputs": [
    {
     "name": "stdout",
     "output_type": "stream",
     "text": [
      "Processing: C:\\Users\\Igor\\Desktop\\LICENCJAT\\licencjat\\dane\\AI_Poland_Jobs_2023_01.csv\n",
      "Processing: C:\\Users\\Igor\\Desktop\\LICENCJAT\\licencjat\\dane\\AI_Poland_Jobs_2023_02.csv\n",
      "Processing: C:\\Users\\Igor\\Desktop\\LICENCJAT\\licencjat\\dane\\AI_Poland_Jobs_2023_03.csv\n",
      "Processing: C:\\Users\\Igor\\Desktop\\LICENCJAT\\licencjat\\dane\\AI_Poland_Jobs_2023_04.csv\n",
      "Processing: C:\\Users\\Igor\\Desktop\\LICENCJAT\\licencjat\\dane\\AI_Poland_Jobs_2023_05.csv\n",
      "Processing: C:\\Users\\Igor\\Desktop\\LICENCJAT\\licencjat\\dane\\AI_Poland_Jobs_2023_06.csv\n",
      "Processing: C:\\Users\\Igor\\Desktop\\LICENCJAT\\licencjat\\dane\\AI_Poland_Jobs_2023_07.csv\n",
      "Processing: C:\\Users\\Igor\\Desktop\\LICENCJAT\\licencjat\\dane\\AI_Poland_Jobs_2023_08.csv\n",
      "Processing: C:\\Users\\Igor\\Desktop\\LICENCJAT\\licencjat\\dane\\AI_Poland_Jobs_2023_09.csv\n",
      "Processing: C:\\Users\\Igor\\Desktop\\LICENCJAT\\licencjat\\dane\\AI_Poland_Jobs_2023_10.csv\n",
      "Processing: C:\\Users\\Igor\\Desktop\\LICENCJAT\\licencjat\\dane\\AI_Poland_Jobs_2023_11.csv\n",
      "Processing: C:\\Users\\Igor\\Desktop\\LICENCJAT\\licencjat\\dane\\AI_Poland_Jobs_2023_12.csv\n"
     ]
    }
   ],
   "source": [
    "folder_path = Path(\"C:/Users/Igor/Desktop/LICENCJAT/licencjat/dane\")\n",
    "\n",
    "months = [\"01.01.2023\", \"01.02.2023\", \"01.03.2023\", \"01.04.2023\", \"01.05.2023\", \"01.06.2023\",\n",
    "          \"01.07.2023\", \"01.08.2023\", \"01.09.2023\", \"01.10.2023\", \"01.11.2023\", \"01.12.2023\"]\n",
    "\n",
    "iterator = iter(months)\n",
    "\n",
    "for file in folder_path.iterdir():\n",
    "    if file.is_file():\n",
    "        print(f\"Processing: {file}\")\n",
    "        df = pd.read_csv(file)\n",
    "        df[\"date\"] = next(iterator)\n",
    "        df.to_csv(file, index=False)"
   ]
  },
  {
   "cell_type": "markdown",
   "id": "d8d65a94",
   "metadata": {},
   "source": [
    "## Rezultat"
   ]
  },
  {
   "cell_type": "code",
   "execution_count": 4,
   "id": "77cc6c22",
   "metadata": {},
   "outputs": [
    {
     "data": {
      "text/html": [
       "<div>\n",
       "<style scoped>\n",
       "    .dataframe tbody tr th:only-of-type {\n",
       "        vertical-align: middle;\n",
       "    }\n",
       "\n",
       "    .dataframe tbody tr th {\n",
       "        vertical-align: top;\n",
       "    }\n",
       "\n",
       "    .dataframe thead th {\n",
       "        text-align: right;\n",
       "    }\n",
       "</style>\n",
       "<table border=\"1\" class=\"dataframe\">\n",
       "  <thead>\n",
       "    <tr style=\"text-align: right;\">\n",
       "      <th></th>\n",
       "      <th>Id</th>\n",
       "      <th>Title</th>\n",
       "      <th>Senior</th>\n",
       "      <th>Company</th>\n",
       "      <th>Location</th>\n",
       "      <th>Salary</th>\n",
       "      <th>Currency</th>\n",
       "      <th>date</th>\n",
       "    </tr>\n",
       "  </thead>\n",
       "  <tbody>\n",
       "    <tr>\n",
       "      <th>0</th>\n",
       "      <td>1.0</td>\n",
       "      <td>Senior Python Computer Vision Engineer</td>\n",
       "      <td>True</td>\n",
       "      <td>Unitem</td>\n",
       "      <td>Wrocław, PL</td>\n",
       "      <td>15 000  – 20 000  PLN</td>\n",
       "      <td>PLN</td>\n",
       "      <td>01.01.2023</td>\n",
       "    </tr>\n",
       "    <tr>\n",
       "      <th>1</th>\n",
       "      <td>2.0</td>\n",
       "      <td>Senior/Lead Data Scientist</td>\n",
       "      <td>True</td>\n",
       "      <td>Addepto</td>\n",
       "      <td>Zdalnie  + 5</td>\n",
       "      <td>18 480  – 35 280  PLN</td>\n",
       "      <td>PLN</td>\n",
       "      <td>01.01.2023</td>\n",
       "    </tr>\n",
       "    <tr>\n",
       "      <th>2</th>\n",
       "      <td>3.0</td>\n",
       "      <td>Mid/Senior Python AI Engineer</td>\n",
       "      <td>True</td>\n",
       "      <td>Vestigit</td>\n",
       "      <td>Wrocław, PL</td>\n",
       "      <td>17 000  – 22 000  PLN</td>\n",
       "      <td>PLN</td>\n",
       "      <td>01.01.2023</td>\n",
       "    </tr>\n",
       "    <tr>\n",
       "      <th>3</th>\n",
       "      <td>4.0</td>\n",
       "      <td>AI Developer with ROS</td>\n",
       "      <td>False</td>\n",
       "      <td>Four Point</td>\n",
       "      <td>Wrocław, PL</td>\n",
       "      <td>15 000  – 28 000  PLN</td>\n",
       "      <td>PLN</td>\n",
       "      <td>01.01.2023</td>\n",
       "    </tr>\n",
       "    <tr>\n",
       "      <th>4</th>\n",
       "      <td>5.0</td>\n",
       "      <td>NLP Developer</td>\n",
       "      <td>False</td>\n",
       "      <td>Talkie.ai</td>\n",
       "      <td>Zdalnie</td>\n",
       "      <td>12 000  – 20 000  PLN</td>\n",
       "      <td>PLN</td>\n",
       "      <td>01.01.2023</td>\n",
       "    </tr>\n",
       "  </tbody>\n",
       "</table>\n",
       "</div>"
      ],
      "text/plain": [
       "    Id                                   Title  Senior     Company  \\\n",
       "0  1.0  Senior Python Computer Vision Engineer    True      Unitem   \n",
       "1  2.0              Senior/Lead Data Scientist    True     Addepto   \n",
       "2  3.0           Mid/Senior Python AI Engineer    True    Vestigit   \n",
       "3  4.0                   AI Developer with ROS   False  Four Point   \n",
       "4  5.0                           NLP Developer   False   Talkie.ai   \n",
       "\n",
       "       Location                 Salary Currency        date  \n",
       "0   Wrocław, PL  15 000  – 20 000  PLN      PLN  01.01.2023  \n",
       "1  Zdalnie  + 5  18 480  – 35 280  PLN      PLN  01.01.2023  \n",
       "2   Wrocław, PL  17 000  – 22 000  PLN      PLN  01.01.2023  \n",
       "3   Wrocław, PL  15 000  – 28 000  PLN      PLN  01.01.2023  \n",
       "4       Zdalnie  12 000  – 20 000  PLN      PLN  01.01.2023  "
      ]
     },
     "execution_count": 4,
     "metadata": {},
     "output_type": "execute_result"
    }
   ],
   "source": [
    "path_to_file = \"C:/Users/Igor/Desktop/LICENCJAT/licencjat/dane/AI_Poland_Jobs_2023_01.csv\"\n",
    "df = pd.read_csv(path_to_file)\n",
    "df.head()"
   ]
  },
  {
   "cell_type": "code",
   "execution_count": null,
   "id": "3b5ce521",
   "metadata": {},
   "outputs": [],
   "source": []
  }
 ],
 "metadata": {
  "kernelspec": {
   "display_name": "Python 3 (ipykernel)",
   "language": "python",
   "name": "python3"
  },
  "language_info": {
   "codemirror_mode": {
    "name": "ipython",
    "version": 3
   },
   "file_extension": ".py",
   "mimetype": "text/x-python",
   "name": "python",
   "nbconvert_exporter": "python",
   "pygments_lexer": "ipython3",
   "version": "3.11.3"
  }
 },
 "nbformat": 4,
 "nbformat_minor": 5
}
